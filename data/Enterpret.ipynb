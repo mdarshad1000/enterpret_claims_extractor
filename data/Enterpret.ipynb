{
  "cells": [
    {
      "cell_type": "code",
      "execution_count": null,
      "metadata": {
        "colab": {
          "base_uri": "https://localhost:8080/",
          "height": 672
        },
        "id": "6eSRgcU4M6k0",
        "outputId": "6366889c-c580-4b6d-f935-8ed341d58885"
      },
      "outputs": [],
      "source": [
        "# load the dataset and take a quick view\n",
        "import pandas as pd\n",
        "\n",
        "df = pd.read_csv(\"enterpret.csv\")\n",
        "df.head()"
      ]
    },
    {
      "cell_type": "code",
      "execution_count": null,
      "metadata": {
        "colab": {
          "base_uri": "https://localhost:8080/"
        },
        "id": "QEqoNp8Qj07b",
        "outputId": "2ebe1c47-c534-4e97-9462-c2ddc844207d"
      },
      "outputs": [],
      "source": [
        "# check the columns\n",
        "print(f\"Columns: {df.columns}\")\n",
        "print(f\"Rows and Columns: {df.shape}\")"
      ]
    },
    {
      "cell_type": "code",
      "execution_count": null,
      "metadata": {
        "colab": {
          "base_uri": "https://localhost:8080/"
        },
        "id": "1zF0bTtSkDg6",
        "outputId": "00f1c15c-cd6c-4434-9baa-29f9985095f1"
      },
      "outputs": [],
      "source": [
        "# check columns which are all empty so that can be dropped\n",
        "empty_cols = [col for col in df.columns if df[col].isnull().all()]\n",
        "print(f\"Empty columns: {empty_cols} \\nNo. of empty columns: {len(empty_cols)} \")"
      ]
    },
    {
      "cell_type": "code",
      "execution_count": null,
      "metadata": {
        "id": "xdP539QTkLmx"
      },
      "outputs": [],
      "source": [
        "# drop columns having all null rows\n",
        "df.dropna(axis=1, how=\"all\", inplace=True)"
      ]
    },
    {
      "cell_type": "code",
      "execution_count": null,
      "metadata": {
        "colab": {
          "base_uri": "https://localhost:8080/"
        },
        "id": "0CLTCxc3kUgQ",
        "outputId": "578a25d3-1719-4169-da4a-61a7ad9ab33a"
      },
      "outputs": [],
      "source": [
        "# now checking the shape again\n",
        "df.shape"
      ]
    },
    {
      "cell_type": "code",
      "execution_count": null,
      "metadata": {
        "colab": {
          "base_uri": "https://localhost:8080/"
        },
        "id": "8HBN4bIRkWEq",
        "outputId": "cd0ff893-62fb-4050-8d12-4fd0d5db7487"
      },
      "outputs": [],
      "source": [
        "# Checking the unique values of columns that appear to have categorical features\n",
        "unique_sources = df[\"Source\"].unique()\n",
        "unique_types = df[\"Type\"].unique()\n",
        "unique_languages = df[\"Language\"].unique()\n",
        "unique_sentiments = df[\"Record Sentiment\"].unique()\n",
        "\n",
        "print(\"Unique sources:\", unique_sources, len(unique_sources))\n",
        "print(\"Unique types:\", unique_types, len(unique_types))\n",
        "print(\"Unique languages:\", unique_languages, len(unique_languages))\n",
        "print(\"Unique sentiments:\", unique_sentiments, len(unique_sentiments))"
      ]
    },
    {
      "cell_type": "code",
      "execution_count": null,
      "metadata": {
        "id": "avXkvkzKmdUg"
      },
      "outputs": [],
      "source": [
        "source_count = df[\"Source\"].value_counts().head(4)\n",
        "type_count = df[\"Type\"].value_counts().head(3)\n",
        "sentiment_count = df[\"Record Sentiment\"].value_counts().head(3)"
      ]
    },
    {
      "cell_type": "code",
      "execution_count": null,
      "metadata": {
        "colab": {
          "base_uri": "https://localhost:8080/"
        },
        "id": "8AkHXyQtSGlg",
        "outputId": "d6531c17-66ac-41f4-deda-7654796a7eb1"
      },
      "outputs": [],
      "source": [
        "# getting the distribution\n",
        "print(source_count)\n",
        "print()\n",
        "print(type_count)\n",
        "print()\n",
        "print(sentiment_count)"
      ]
    },
    {
      "cell_type": "code",
      "execution_count": null,
      "metadata": {
        "colab": {
          "base_uri": "https://localhost:8080/"
        },
        "id": "CU4QG-0Ao41l",
        "outputId": "7e23b290-90c8-4f5e-8f79-f7ce7d4761c6"
      },
      "outputs": [],
      "source": [
        "null_content_count = df[\"Reasons\"].isnull().sum()\n",
        "print(f\"Number of null rows in Reasons column: {null_content_count}\")"
      ]
    },
    {
      "cell_type": "code",
      "execution_count": null,
      "metadata": {
        "colab": {
          "base_uri": "https://localhost:8080/"
        },
        "id": "4BBLTvvfClHt",
        "outputId": "1dbf87b0-27b6-4877-aef2-3ff636b6e19b"
      },
      "outputs": [],
      "source": [
        "# analysing the protagonist further\n",
        "audio_content_count = df[df['Content'] == '<AUDIO_CONTENT>'].shape[0]\n",
        "null_content_count = df['Content'].isnull().sum()\n",
        "print(f\"Number of columns where Content column is <AUDIO_CONTENT>: {audio_content_count}\")\n",
        "print(f\"Number of columns where Content column is Null: {null_content_count}\")\n"
      ]
    },
    {
      "cell_type": "code",
      "execution_count": null,
      "metadata": {
        "colab": {
          "base_uri": "https://localhost:8080/"
        },
        "id": "KF-0Y3CWHs-X",
        "outputId": "8ccddabe-96b4-474a-a7d0-5448f3005b52"
      },
      "outputs": [],
      "source": [
        "df_summary_not_empty = df[df['Summary'].notnull()]\n",
        "summary_not_empty_count = df_summary_not_empty.shape[0]\n",
        "df_reasons_not_empty = df[df['Reasons'].notnull()]\n",
        "reasons_not_empty_count = df_reasons_not_empty.shape[0]\n",
        "print(f\"Number of rows where Reasons column is not empty: {reasons_not_empty_count}\")\n",
        "print(f\"Number of rows where Summary column is not empty: {summary_not_empty_count}\")"
      ]
    },
    {
      "cell_type": "code",
      "execution_count": null,
      "metadata": {},
      "outputs": [],
      "source": [
        "# Check the 'Type' of rows where 'Reasons' column is not empty\n",
        "df_reasons_not_empty_types = df_reasons_not_empty['Type'].value_counts()\n",
        "print(f\"Types of rows where Reasons column is not empty: \\n{df_reasons_not_empty_types}\")"
      ]
    },
    {
      "cell_type": "code",
      "execution_count": null,
      "metadata": {},
      "outputs": [],
      "source": [
        "# Check how many rows of type 'RecordTypeAudioRecording' have their 'Reasons' column empty\n",
        "df_audio_recording_empty_reasons = df[(df['Type'] == 'RecordTypeAudioRecording') & (df['Reasons'].isnull())]\n",
        "audio_recording_empty_reasons_count = df_audio_recording_empty_reasons.shape[0]\n",
        "print(f\"Number of rows of type 'RecordTypeAudioRecording' with empty 'Reasons' column: {audio_recording_empty_reasons_count}\")"
      ]
    },
    {
      "cell_type": "markdown",
      "metadata": {},
      "source": [
        "## Create a new dataframe\n",
        "\n",
        "* For potentially finetuning a model on the data\n",
        "* For providing input to the Claim Extractor"
      ]
    },
    {
      "cell_type": "code",
      "execution_count": null,
      "metadata": {},
      "outputs": [],
      "source": [
        "# as per the problem statement, select desired columns\n",
        "main_df = df[\n",
        "    [\"ID\", \"URL\", \"Type\", \"Source\", \"CreatedAt\", \"Summary\", \"Reasons\", \"Content\"]\n",
        "]"
      ]
    },
    {
      "cell_type": "code",
      "execution_count": null,
      "metadata": {},
      "outputs": [],
      "source": [
        "from nltk.tokenize import sent_tokenize\n",
        "import re\n",
        "import json\n",
        "def split_content_based_on_type(row):\n",
        "    content = row[\"Content\"]\n",
        "    type = row[\"Type\"]\n",
        "\n",
        "    # Check if content is a string, not <AUDIO_CONTENT>, and not None\n",
        "    if type == \"RecordTypeAudioRecording\":\n",
        "            return \"<AUDIO_CONTENT>\"\n",
        "    \n",
        "    elif isinstance(content, str) and content is not None:    \n",
        "        if type == \"RecordTypeConversation\":\n",
        "            # Split the content based on 'User:' or 'Agent:'\n",
        "            dialogues = re.split(r\"(?=User:|Agent:)\", content)\n",
        "            # Remove leading/trailing whitespaces from each dialogue\n",
        "            dialogues = [dialogue.strip() for dialogue in dialogues if dialogue != '']\n",
        "            # Tokenize sentences within each dialogue and assign each sentence a key\n",
        "            sentence_dict = {}\n",
        "            sentence_index = 1\n",
        "            for dialogue in dialogues:\n",
        "                sentences = sent_tokenize(dialogue)\n",
        "                for sentence in sentences:\n",
        "                    sentence_dict[sentence_index] = sentence\n",
        "                    sentence_index += 1\n",
        "            sentence_dict = json.dumps(sentence_dict)\n",
        "            return sentence_dict\n",
        "        elif type == \"RecordTypeSurvey\":\n",
        "            # Split the content into sentences\n",
        "            sentences = sent_tokenize(content)\n",
        "            sentences = {index+1: sentence for index, sentence in enumerate(sentences)}\n",
        "            sentences = json.dumps(sentences)\n",
        "            return sentences\n",
        "    else:\n",
        "        return ''"
      ]
    },
    {
      "cell_type": "code",
      "execution_count": null,
      "metadata": {},
      "outputs": [],
      "source": [
        "main_df[\"Content\"] = main_df.apply(split_content_based_on_type, axis=1)"
      ]
    },
    {
      "cell_type": "code",
      "execution_count": null,
      "metadata": {},
      "outputs": [],
      "source": [
        "for i, content in enumerate(main_df['Content']):\n",
        "        print(f\"Content {i+1}: NumDialogues: - {content}\\n\")\n",
        "        break"
      ]
    },
    {
      "cell_type": "code",
      "execution_count": null,
      "metadata": {},
      "outputs": [],
      "source": [
        "import json\n",
        "\n",
        "def csv_to_json(jsonl_file_path):\n",
        "\n",
        "    df = main_df\n",
        "    # Convert each row of the DataFrame to JSON and write to a file\n",
        "    with open(jsonl_file_path, \"w\") as f:\n",
        "        for _, row in df.iterrows():\n",
        "            json.dump(row.to_dict(), f)\n",
        "            f.write(\"\\n\")\n",
        "\n",
        "\n",
        "csv_to_json(\"./enterpret.jsonl\")"
      ]
    },
    {
      "cell_type": "code",
      "execution_count": null,
      "metadata": {},
      "outputs": [],
      "source": [
        "# Save the DataFrame to a CSV file\n",
        "main_df.to_csv(\"main_df.csv\", index=False)"
      ]
    },
    {
      "cell_type": "code",
      "execution_count": null,
      "metadata": {},
      "outputs": [],
      "source": [
        "# Easier to work with JSON\n",
        "class Content:\n",
        "    def __init__(self, dict):\n",
        "        self.id = dict[\"ID\"]\n",
        "        self.url = dict[\"URL\"]\n",
        "        self.type = dict[\"Type\"]\n",
        "        self.timestamp = dict[\"CreatedAt\"]\n",
        "        self.source = dict[\"Source\"]\n",
        "        self.content = dict[\"Content\"]\n",
        "        self.summary = dict[\"Summary\"]\n",
        "        self.reason = dict[\"Reasons\"]\n",
        "\n",
        "    @property\n",
        "    def is_conversation(self):\n",
        "        return self.type == \"RecordTypeConversation\"\n",
        "    \n",
        "    @property\n",
        "    def is_survey(self):\n",
        "        return self.type == \"RecordTypeSurvey\""
      ]
    },
    {
      "cell_type": "code",
      "execution_count": null,
      "metadata": {},
      "outputs": [],
      "source": []
    }
  ],
  "metadata": {
    "colab": {
      "provenance": []
    },
    "kernelspec": {
      "display_name": "Python 3",
      "name": "python3"
    },
    "language_info": {
      "codemirror_mode": {
        "name": "ipython",
        "version": 3
      },
      "file_extension": ".py",
      "mimetype": "text/x-python",
      "name": "python",
      "nbconvert_exporter": "python",
      "pygments_lexer": "ipython3",
      "version": "3.11.9"
    }
  },
  "nbformat": 4,
  "nbformat_minor": 0
}
