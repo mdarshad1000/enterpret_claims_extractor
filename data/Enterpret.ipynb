{
  "cells": [
    {
      "cell_type": "code",
      "execution_count": 1,
      "metadata": {
        "colab": {
          "base_uri": "https://localhost:8080/",
          "height": 672
        },
        "id": "6eSRgcU4M6k0",
        "outputId": "6366889c-c580-4b6d-f935-8ed341d58885"
      },
      "outputs": [
        {
          "data": {
            "text/html": [
              "<div>\n",
              "<style scoped>\n",
              "    .dataframe tbody tr th:only-of-type {\n",
              "        vertical-align: middle;\n",
              "    }\n",
              "\n",
              "    .dataframe tbody tr th {\n",
              "        vertical-align: top;\n",
              "    }\n",
              "\n",
              "    .dataframe thead th {\n",
              "        text-align: right;\n",
              "    }\n",
              "</style>\n",
              "<table border=\"1\" class=\"dataframe\">\n",
              "  <thead>\n",
              "    <tr style=\"text-align: right;\">\n",
              "      <th></th>\n",
              "      <th>ID</th>\n",
              "      <th>URL</th>\n",
              "      <th>Source</th>\n",
              "      <th>Type</th>\n",
              "      <th>CreatedAt</th>\n",
              "      <th>Language</th>\n",
              "      <th>Record Sentiment</th>\n",
              "      <th>Tracked Keywords</th>\n",
              "      <th>Reasons</th>\n",
              "      <th>Content</th>\n",
              "      <th>...</th>\n",
              "      <th>metadata.Total_Feedback_Volume_Call_Recording__c</th>\n",
              "      <th>metadata.Metadata_Summary</th>\n",
              "      <th>metadata.Metadata_CallParticipants_name</th>\n",
              "      <th>metadata.Metadata_PublicURL</th>\n",
              "      <th>metadata.Metadata_Tags_[]</th>\n",
              "      <th>metadata.Metadata_CallParticipants_email</th>\n",
              "      <th>metadata.Metadata_Owners_[]</th>\n",
              "      <th>metadata.Metadata_EndTime</th>\n",
              "      <th>metadata.Metadata_StartTime</th>\n",
              "      <th>metadata.Influenced_By__c</th>\n",
              "    </tr>\n",
              "  </thead>\n",
              "  <tbody>\n",
              "    <tr>\n",
              "      <th>0</th>\n",
              "      <td>e0e5cedb-2da1-5476-bfef-366eebc71656</td>\n",
              "      <td>https://dashboard.enterpret.com/enterpretinc/r...</td>\n",
              "      <td>Slack</td>\n",
              "      <td>RecordTypeConversation</td>\n",
              "      <td>2024-01-12T22:28:45Z</td>\n",
              "      <td>eng</td>\n",
              "      <td>NEGATIVE</td>\n",
              "      <td>NaN</td>\n",
              "      <td>Issue With Decreased Feedback Volume From Sources</td>\n",
              "      <td>Agent: Mike McNasby jil It looks like the volu...</td>\n",
              "      <td>...</td>\n",
              "      <td>NaN</td>\n",
              "      <td>NaN</td>\n",
              "      <td>NaN</td>\n",
              "      <td>NaN</td>\n",
              "      <td>NaN</td>\n",
              "      <td>NaN</td>\n",
              "      <td>NaN</td>\n",
              "      <td>NaN</td>\n",
              "      <td>NaN</td>\n",
              "      <td>NaN</td>\n",
              "    </tr>\n",
              "    <tr>\n",
              "      <th>1</th>\n",
              "      <td>a879cfc1-120c-5a69-b059-5820f08abae3</td>\n",
              "      <td>https://dashboard.enterpret.com/enterpretinc/r...</td>\n",
              "      <td>Gong</td>\n",
              "      <td>RecordTypeAudioRecording</td>\n",
              "      <td>2024-01-12T21:39:45Z</td>\n",
              "      <td>eng</td>\n",
              "      <td>NaN</td>\n",
              "      <td>Feedback, Integration, Quantify, Reporting, Sl...</td>\n",
              "      <td>Ability To Filter Information In Zendesk, Help...</td>\n",
              "      <td>&lt;AUDIO_CONTENT&gt;</td>\n",
              "      <td>...</td>\n",
              "      <td>NaN</td>\n",
              "      <td>NaN</td>\n",
              "      <td>NaN</td>\n",
              "      <td>NaN</td>\n",
              "      <td>NaN</td>\n",
              "      <td>NaN</td>\n",
              "      <td>NaN</td>\n",
              "      <td>NaN</td>\n",
              "      <td>NaN</td>\n",
              "      <td>NaN</td>\n",
              "    </tr>\n",
              "    <tr>\n",
              "      <th>2</th>\n",
              "      <td>69949ac0-6280-5a97-be88-315985fe2cbc</td>\n",
              "      <td>https://dashboard.enterpret.com/enterpretinc/r...</td>\n",
              "      <td>Slack</td>\n",
              "      <td>RecordTypeConversation</td>\n",
              "      <td>2024-01-12T20:57:40Z</td>\n",
              "      <td>eng</td>\n",
              "      <td>NEUTRAL</td>\n",
              "      <td>Schedule</td>\n",
              "      <td>NaN</td>\n",
              "      <td>User: Adding Daniela González, Emma's ExecOps ...</td>\n",
              "      <td>...</td>\n",
              "      <td>NaN</td>\n",
              "      <td>NaN</td>\n",
              "      <td>NaN</td>\n",
              "      <td>NaN</td>\n",
              "      <td>NaN</td>\n",
              "      <td>NaN</td>\n",
              "      <td>NaN</td>\n",
              "      <td>NaN</td>\n",
              "      <td>NaN</td>\n",
              "      <td>NaN</td>\n",
              "    </tr>\n",
              "    <tr>\n",
              "      <th>3</th>\n",
              "      <td>7396e171-235d-5cd4-af82-7b8d4c70ce76</td>\n",
              "      <td>https://dashboard.enterpret.com/enterpretinc/r...</td>\n",
              "      <td>Salesforce - Opportunity</td>\n",
              "      <td>RecordTypeSurvey</td>\n",
              "      <td>2024-01-12T20:57:28Z</td>\n",
              "      <td>eng</td>\n",
              "      <td>NEGATIVE</td>\n",
              "      <td>Feedback</td>\n",
              "      <td>Issue With Low Volume, Issue With Feedback Goi...</td>\n",
              "      <td>Closed Lost Notes\\nNot enough volume, not enou...</td>\n",
              "      <td>...</td>\n",
              "      <td>NaN</td>\n",
              "      <td>NaN</td>\n",
              "      <td>NaN</td>\n",
              "      <td>NaN</td>\n",
              "      <td>NaN</td>\n",
              "      <td>NaN</td>\n",
              "      <td>NaN</td>\n",
              "      <td>NaN</td>\n",
              "      <td>NaN</td>\n",
              "      <td>NaN</td>\n",
              "    </tr>\n",
              "    <tr>\n",
              "      <th>4</th>\n",
              "      <td>6794583a-f498-5904-925e-08b826581709</td>\n",
              "      <td>https://dashboard.enterpret.com/enterpretinc/r...</td>\n",
              "      <td>Gong</td>\n",
              "      <td>RecordTypeAudioRecording</td>\n",
              "      <td>2024-01-12T20:01:16Z</td>\n",
              "      <td>eng</td>\n",
              "      <td>NaN</td>\n",
              "      <td>Product Design, Feedback, Enterpret, Survey, D...</td>\n",
              "      <td>Ability To Get More Detailed Feedback, Ability...</td>\n",
              "      <td>&lt;AUDIO_CONTENT&gt;</td>\n",
              "      <td>...</td>\n",
              "      <td>NaN</td>\n",
              "      <td>NaN</td>\n",
              "      <td>NaN</td>\n",
              "      <td>NaN</td>\n",
              "      <td>NaN</td>\n",
              "      <td>NaN</td>\n",
              "      <td>NaN</td>\n",
              "      <td>NaN</td>\n",
              "      <td>NaN</td>\n",
              "      <td>NaN</td>\n",
              "    </tr>\n",
              "  </tbody>\n",
              "</table>\n",
              "<p>5 rows × 104 columns</p>\n",
              "</div>"
            ],
            "text/plain": [
              "                                     ID  \\\n",
              "0  e0e5cedb-2da1-5476-bfef-366eebc71656   \n",
              "1  a879cfc1-120c-5a69-b059-5820f08abae3   \n",
              "2  69949ac0-6280-5a97-be88-315985fe2cbc   \n",
              "3  7396e171-235d-5cd4-af82-7b8d4c70ce76   \n",
              "4  6794583a-f498-5904-925e-08b826581709   \n",
              "\n",
              "                                                 URL  \\\n",
              "0  https://dashboard.enterpret.com/enterpretinc/r...   \n",
              "1  https://dashboard.enterpret.com/enterpretinc/r...   \n",
              "2  https://dashboard.enterpret.com/enterpretinc/r...   \n",
              "3  https://dashboard.enterpret.com/enterpretinc/r...   \n",
              "4  https://dashboard.enterpret.com/enterpretinc/r...   \n",
              "\n",
              "                     Source                      Type             CreatedAt  \\\n",
              "0                     Slack    RecordTypeConversation  2024-01-12T22:28:45Z   \n",
              "1                      Gong  RecordTypeAudioRecording  2024-01-12T21:39:45Z   \n",
              "2                     Slack    RecordTypeConversation  2024-01-12T20:57:40Z   \n",
              "3  Salesforce - Opportunity          RecordTypeSurvey  2024-01-12T20:57:28Z   \n",
              "4                      Gong  RecordTypeAudioRecording  2024-01-12T20:01:16Z   \n",
              "\n",
              "  Language Record Sentiment  \\\n",
              "0      eng         NEGATIVE   \n",
              "1      eng              NaN   \n",
              "2      eng          NEUTRAL   \n",
              "3      eng         NEGATIVE   \n",
              "4      eng              NaN   \n",
              "\n",
              "                                    Tracked Keywords  \\\n",
              "0                                                NaN   \n",
              "1  Feedback, Integration, Quantify, Reporting, Sl...   \n",
              "2                                           Schedule   \n",
              "3                                           Feedback   \n",
              "4  Product Design, Feedback, Enterpret, Survey, D...   \n",
              "\n",
              "                                             Reasons  \\\n",
              "0  Issue With Decreased Feedback Volume From Sources   \n",
              "1  Ability To Filter Information In Zendesk, Help...   \n",
              "2                                                NaN   \n",
              "3  Issue With Low Volume, Issue With Feedback Goi...   \n",
              "4  Ability To Get More Detailed Feedback, Ability...   \n",
              "\n",
              "                                             Content  ...  \\\n",
              "0  Agent: Mike McNasby jil It looks like the volu...  ...   \n",
              "1                                    <AUDIO_CONTENT>  ...   \n",
              "2  User: Adding Daniela González, Emma's ExecOps ...  ...   \n",
              "3  Closed Lost Notes\\nNot enough volume, not enou...  ...   \n",
              "4                                    <AUDIO_CONTENT>  ...   \n",
              "\n",
              "  metadata.Total_Feedback_Volume_Call_Recording__c metadata.Metadata_Summary  \\\n",
              "0                                              NaN                       NaN   \n",
              "1                                              NaN                       NaN   \n",
              "2                                              NaN                       NaN   \n",
              "3                                              NaN                       NaN   \n",
              "4                                              NaN                       NaN   \n",
              "\n",
              "  metadata.Metadata_CallParticipants_name metadata.Metadata_PublicURL  \\\n",
              "0                                     NaN                         NaN   \n",
              "1                                     NaN                         NaN   \n",
              "2                                     NaN                         NaN   \n",
              "3                                     NaN                         NaN   \n",
              "4                                     NaN                         NaN   \n",
              "\n",
              "   metadata.Metadata_Tags_[] metadata.Metadata_CallParticipants_email  \\\n",
              "0                        NaN                                      NaN   \n",
              "1                        NaN                                      NaN   \n",
              "2                        NaN                                      NaN   \n",
              "3                        NaN                                      NaN   \n",
              "4                        NaN                                      NaN   \n",
              "\n",
              "  metadata.Metadata_Owners_[] metadata.Metadata_EndTime  \\\n",
              "0                         NaN                       NaN   \n",
              "1                         NaN                       NaN   \n",
              "2                         NaN                       NaN   \n",
              "3                         NaN                       NaN   \n",
              "4                         NaN                       NaN   \n",
              "\n",
              "  metadata.Metadata_StartTime metadata.Influenced_By__c  \n",
              "0                         NaN                       NaN  \n",
              "1                         NaN                       NaN  \n",
              "2                         NaN                       NaN  \n",
              "3                         NaN                       NaN  \n",
              "4                         NaN                       NaN  \n",
              "\n",
              "[5 rows x 104 columns]"
            ]
          },
          "execution_count": 1,
          "metadata": {},
          "output_type": "execute_result"
        }
      ],
      "source": [
        "# load the dataset and take a quick view\n",
        "import pandas as pd\n",
        "\n",
        "df = pd.read_csv(\"enterpret.csv\")\n",
        "df.head()"
      ]
    },
    {
      "cell_type": "code",
      "execution_count": 2,
      "metadata": {
        "colab": {
          "base_uri": "https://localhost:8080/"
        },
        "id": "QEqoNp8Qj07b",
        "outputId": "2ebe1c47-c534-4e97-9462-c2ddc844207d"
      },
      "outputs": [
        {
          "name": "stdout",
          "output_type": "stream",
          "text": [
            "Columns: Index(['ID', 'URL', 'Source', 'Type', 'CreatedAt', 'Language',\n",
            "       'Record Sentiment', 'Tracked Keywords', 'Reasons', 'Content',\n",
            "       ...\n",
            "       'metadata.Total_Feedback_Volume_Call_Recording__c',\n",
            "       'metadata.Metadata_Summary', 'metadata.Metadata_CallParticipants_name',\n",
            "       'metadata.Metadata_PublicURL', 'metadata.Metadata_Tags_[]',\n",
            "       'metadata.Metadata_CallParticipants_email',\n",
            "       'metadata.Metadata_Owners_[]', 'metadata.Metadata_EndTime',\n",
            "       'metadata.Metadata_StartTime', 'metadata.Influenced_By__c'],\n",
            "      dtype='object', length=104)\n",
            "Rows and Columns: (904, 104)\n"
          ]
        }
      ],
      "source": [
        "# check the columns\n",
        "print(f\"Columns: {df.columns}\")\n",
        "print(f\"Rows and Columns: {df.shape}\")"
      ]
    },
    {
      "cell_type": "code",
      "execution_count": 3,
      "metadata": {
        "colab": {
          "base_uri": "https://localhost:8080/"
        },
        "id": "1zF0bTtSkDg6",
        "outputId": "00f1c15c-cd6c-4434-9baa-29f9985095f1"
      },
      "outputs": [
        {
          "name": "stdout",
          "output_type": "stream",
          "text": [
            "Empty columns: ['metadata.Post_Title', 'metadata.Author_Name', 'metadata.Subreddit', 'metadata.Post_Author', 'metadata.Post_URL', 'metadata.Author_Type', 'metadata.CreatedAt', 'metadata.Post_ID', 'metadata.Author_Flair', 'metadata.Tags_[]', 'metadata.Author_Tags_[]', 'metadata.Post_Flair'] \n",
            "No. of empty columns: 12 \n"
          ]
        }
      ],
      "source": [
        "# check columns which are all empty so that can be dropped\n",
        "empty_cols = [col for col in df.columns if df[col].isnull().all()]\n",
        "print(f\"Empty columns: {empty_cols} \\nNo. of empty columns: {len(empty_cols)} \")"
      ]
    },
    {
      "cell_type": "code",
      "execution_count": 4,
      "metadata": {
        "id": "xdP539QTkLmx"
      },
      "outputs": [],
      "source": [
        "# drop columns having all null rows\n",
        "df.dropna(axis=1, how=\"all\", inplace=True)"
      ]
    },
    {
      "cell_type": "code",
      "execution_count": 5,
      "metadata": {
        "colab": {
          "base_uri": "https://localhost:8080/"
        },
        "id": "0CLTCxc3kUgQ",
        "outputId": "578a25d3-1719-4169-da4a-61a7ad9ab33a"
      },
      "outputs": [
        {
          "data": {
            "text/plain": [
              "(904, 92)"
            ]
          },
          "execution_count": 5,
          "metadata": {},
          "output_type": "execute_result"
        }
      ],
      "source": [
        "# now checking the shape again\n",
        "df.shape"
      ]
    },
    {
      "cell_type": "code",
      "execution_count": 6,
      "metadata": {
        "colab": {
          "base_uri": "https://localhost:8080/"
        },
        "id": "8HBN4bIRkWEq",
        "outputId": "cd0ff893-62fb-4050-8d12-4fd0d5db7487"
      },
      "outputs": [
        {
          "name": "stdout",
          "output_type": "stream",
          "text": [
            "Unique sources: ['Slack' 'Gong' 'Salesforce - Opportunity' 'Grain'] 4\n",
            "Unique types: ['RecordTypeConversation' 'RecordTypeAudioRecording' 'RecordTypeSurvey'] 3\n",
            "Unique languages: ['eng'] 1\n",
            "Unique sentiments: ['NEGATIVE' nan 'NEUTRAL' 'POSITIVE'] 4\n"
          ]
        }
      ],
      "source": [
        "# Checking the unique values of columns that appear to have categorical features\n",
        "unique_sources = df[\"Source\"].unique()\n",
        "unique_types = df[\"Type\"].unique()\n",
        "unique_languages = df[\"Language\"].unique()\n",
        "unique_sentiments = df[\"Record Sentiment\"].unique()\n",
        "\n",
        "print(\"Unique sources:\", unique_sources, len(unique_sources))\n",
        "print(\"Unique types:\", unique_types, len(unique_types))\n",
        "print(\"Unique languages:\", unique_languages, len(unique_languages))\n",
        "print(\"Unique sentiments:\", unique_sentiments, len(unique_sentiments))"
      ]
    },
    {
      "cell_type": "code",
      "execution_count": 7,
      "metadata": {
        "id": "avXkvkzKmdUg"
      },
      "outputs": [],
      "source": [
        "source_count = df[\"Source\"].value_counts().head(4)\n",
        "type_count = df[\"Type\"].value_counts().head(3)\n",
        "sentiment_count = df[\"Record Sentiment\"].value_counts().head(3)"
      ]
    },
    {
      "cell_type": "code",
      "execution_count": 8,
      "metadata": {
        "colab": {
          "base_uri": "https://localhost:8080/"
        },
        "id": "8AkHXyQtSGlg",
        "outputId": "d6531c17-66ac-41f4-deda-7654796a7eb1"
      },
      "outputs": [
        {
          "name": "stdout",
          "output_type": "stream",
          "text": [
            "Source\n",
            "Gong                        506\n",
            "Slack                       341\n",
            "Salesforce - Opportunity     56\n",
            "Grain                         1\n",
            "Name: count, dtype: int64\n",
            "\n",
            "Type\n",
            "RecordTypeAudioRecording    507\n",
            "RecordTypeConversation      341\n",
            "RecordTypeSurvey             56\n",
            "Name: count, dtype: int64\n",
            "\n",
            "Record Sentiment\n",
            "NEGATIVE    108\n",
            "NEUTRAL      76\n",
            "POSITIVE      9\n",
            "Name: count, dtype: int64\n"
          ]
        }
      ],
      "source": [
        "# getting the distribution\n",
        "print(source_count)\n",
        "print()\n",
        "print(type_count)\n",
        "print()\n",
        "print(sentiment_count)"
      ]
    },
    {
      "cell_type": "code",
      "execution_count": 9,
      "metadata": {
        "colab": {
          "base_uri": "https://localhost:8080/"
        },
        "id": "CU4QG-0Ao41l",
        "outputId": "7e23b290-90c8-4f5e-8f79-f7ce7d4761c6"
      },
      "outputs": [
        {
          "name": "stdout",
          "output_type": "stream",
          "text": [
            "Number of null rows in Reasons column: 403\n"
          ]
        }
      ],
      "source": [
        "null_content_count = df[\"Reasons\"].isnull().sum()\n",
        "print(f\"Number of null rows in Reasons column: {null_content_count}\")"
      ]
    },
    {
      "cell_type": "code",
      "execution_count": 10,
      "metadata": {
        "colab": {
          "base_uri": "https://localhost:8080/"
        },
        "id": "4BBLTvvfClHt",
        "outputId": "1dbf87b0-27b6-4877-aef2-3ff636b6e19b"
      },
      "outputs": [
        {
          "name": "stdout",
          "output_type": "stream",
          "text": [
            "Number of columns where Content column is <AUDIO_CONTENT>: 507\n",
            "Number of columns where Content column is Null: 44\n"
          ]
        }
      ],
      "source": [
        "# analysing the protagonist further\n",
        "audio_content_count = df[df['Content'] == '<AUDIO_CONTENT>'].shape[0]\n",
        "null_content_count = df['Content'].isnull().sum()\n",
        "print(f\"Number of columns where Content column is <AUDIO_CONTENT>: {audio_content_count}\")\n",
        "print(f\"Number of columns where Content column is Null: {null_content_count}\")\n"
      ]
    },
    {
      "cell_type": "code",
      "execution_count": 11,
      "metadata": {
        "colab": {
          "base_uri": "https://localhost:8080/"
        },
        "id": "KF-0Y3CWHs-X",
        "outputId": "8ccddabe-96b4-474a-a7d0-5448f3005b52"
      },
      "outputs": [
        {
          "name": "stdout",
          "output_type": "stream",
          "text": [
            "Number of rows where Reasons column is not empty: 501\n",
            "Number of rows where Summary column is not empty: 217\n"
          ]
        }
      ],
      "source": [
        "df_summary_not_empty = df[df['Summary'].notnull()]\n",
        "summary_not_empty_count = df_summary_not_empty.shape[0]\n",
        "df_reasons_not_empty = df[df['Reasons'].notnull()]\n",
        "reasons_not_empty_count = df_reasons_not_empty.shape[0]\n",
        "print(f\"Number of rows where Reasons column is not empty: {reasons_not_empty_count}\")\n",
        "print(f\"Number of rows where Summary column is not empty: {summary_not_empty_count}\")"
      ]
    },
    {
      "cell_type": "code",
      "execution_count": 12,
      "metadata": {},
      "outputs": [
        {
          "name": "stdout",
          "output_type": "stream",
          "text": [
            "Types of rows where Reasons column is not empty: \n",
            "Type\n",
            "RecordTypeAudioRecording    443\n",
            "RecordTypeConversation       56\n",
            "RecordTypeSurvey              2\n",
            "Name: count, dtype: int64\n"
          ]
        }
      ],
      "source": [
        "# Check the 'Type' of rows where 'Reasons' column is not empty\n",
        "df_reasons_not_empty_types = df_reasons_not_empty['Type'].value_counts()\n",
        "print(f\"Types of rows where Reasons column is not empty: \\n{df_reasons_not_empty_types}\")"
      ]
    },
    {
      "cell_type": "code",
      "execution_count": 13,
      "metadata": {},
      "outputs": [
        {
          "name": "stdout",
          "output_type": "stream",
          "text": [
            "Number of rows of type 'RecordTypeAudioRecording' with empty 'Reasons' column: 64\n"
          ]
        }
      ],
      "source": [
        "# Check how many rows of type 'RecordTypeAudioRecording' have their 'Reasons' column empty\n",
        "df_audio_recording_empty_reasons = df[(df['Type'] == 'RecordTypeAudioRecording') & (df['Reasons'].isnull())]\n",
        "audio_recording_empty_reasons_count = df_audio_recording_empty_reasons.shape[0]\n",
        "print(f\"Number of rows of type 'RecordTypeAudioRecording' with empty 'Reasons' column: {audio_recording_empty_reasons_count}\")"
      ]
    },
    {
      "cell_type": "markdown",
      "metadata": {},
      "source": [
        "## Create a new dataframe\n",
        "\n",
        "* For potentially finetuning a model on the data\n",
        "* For providing input to the Claim Extractor"
      ]
    },
    {
      "cell_type": "code",
      "execution_count": 14,
      "metadata": {},
      "outputs": [],
      "source": [
        "# as per the problem statement, select desired columns\n",
        "main_df = df[\n",
        "    [\"ID\", \"URL\", \"Type\", \"Source\", \"CreatedAt\", \"Summary\", \"Reasons\", \"Content\"]\n",
        "]"
      ]
    },
    {
      "cell_type": "code",
      "execution_count": 15,
      "metadata": {},
      "outputs": [],
      "source": [
        "main_df.to_csv('data.csv')"
      ]
    },
    {
      "cell_type": "code",
      "execution_count": null,
      "metadata": {},
      "outputs": [],
      "source": [
        "from nltk.tokenize import sent_tokenize\n",
        "import re\n",
        "import json\n",
        "def split_content_based_on_type(row):\n",
        "    content = row[\"Content\"]\n",
        "    type = row[\"Type\"]\n",
        "\n",
        "    # Check if content is a string, not <AUDIO_CONTENT>, and not None\n",
        "    if type == \"RecordTypeAudioRecording\":\n",
        "            return \"<AUDIO_CONTENT>\"\n",
        "    \n",
        "    elif isinstance(content, str) and content is not None:    \n",
        "        if type == \"RecordTypeConversation\":\n",
        "            # Split the content based on 'User:' or 'Agent:'\n",
        "            dialogues = re.split(r\"(?=User:|Agent:)\", content)\n",
        "            # Remove leading/trailing whitespaces from each dialogue\n",
        "            dialogues = [dialogue.strip() for dialogue in dialogues if dialogue != '']\n",
        "            # Tokenize sentences within each dialogue and assign each sentence a key\n",
        "            sentence_dict = {}\n",
        "            sentence_index = 1\n",
        "            for dialogue in dialogues:\n",
        "                sentences = sent_tokenize(dialogue)\n",
        "                for sentence in sentences:\n",
        "                    sentence_dict[sentence_index] = sentence\n",
        "                    sentence_index += 1\n",
        "            sentence_dict = json.dumps(sentence_dict)\n",
        "            return sentence_dict\n",
        "        elif type == \"RecordTypeSurvey\":\n",
        "            # Split the content into sentences\n",
        "            sentences = sent_tokenize(content)\n",
        "            sentences = {index+1: sentence for index, sentence in enumerate(sentences)}\n",
        "            sentences = json.dumps(sentences)\n",
        "            return sentences\n",
        "    else:\n",
        "        return ''"
      ]
    },
    {
      "cell_type": "code",
      "execution_count": null,
      "metadata": {},
      "outputs": [],
      "source": [
        "main_df[\"Content\"] = main_df.apply(split_content_based_on_type, axis=1)"
      ]
    },
    {
      "cell_type": "code",
      "execution_count": null,
      "metadata": {},
      "outputs": [],
      "source": [
        "for i, content in enumerate(main_df['Content']):\n",
        "        print(f\"Content {i+1}: NumDialogues: - {content}\\n\")\n",
        "        break"
      ]
    },
    {
      "cell_type": "code",
      "execution_count": null,
      "metadata": {},
      "outputs": [],
      "source": [
        "import json\n",
        "\n",
        "def csv_to_json(jsonl_file_path):\n",
        "\n",
        "    df = main_df\n",
        "    # Convert each row of the DataFrame to JSON and write to a file\n",
        "    with open(jsonl_file_path, \"w\") as f:\n",
        "        for _, row in df.iterrows():\n",
        "            json.dump(row.to_dict(), f)\n",
        "            f.write(\"\\n\")\n",
        "\n",
        "\n",
        "csv_to_json(\"./enterpret.jsonl\")"
      ]
    },
    {
      "cell_type": "code",
      "execution_count": null,
      "metadata": {},
      "outputs": [],
      "source": [
        "# Save the DataFrame to a CSV file\n",
        "main_df.to_csv(\"main_df.csv\", index=False)"
      ]
    },
    {
      "cell_type": "code",
      "execution_count": null,
      "metadata": {},
      "outputs": [],
      "source": [
        "# Easier to work with JSON\n",
        "class Content:\n",
        "    def __init__(self, dict):\n",
        "        self.id = dict[\"ID\"]\n",
        "        self.url = dict[\"URL\"]\n",
        "        self.type = dict[\"Type\"]\n",
        "        self.timestamp = dict[\"CreatedAt\"]\n",
        "        self.source = dict[\"Source\"]\n",
        "        self.content = dict[\"Content\"]\n",
        "        self.summary = dict[\"Summary\"]\n",
        "        self.reason = dict[\"Reasons\"]\n",
        "\n",
        "    @property\n",
        "    def is_conversation(self):\n",
        "        return self.type == \"RecordTypeConversation\"\n",
        "    \n",
        "    @property\n",
        "    def is_survey(self):\n",
        "        return self.type == \"RecordTypeSurvey\""
      ]
    },
    {
      "cell_type": "code",
      "execution_count": null,
      "metadata": {},
      "outputs": [],
      "source": []
    }
  ],
  "metadata": {
    "colab": {
      "provenance": []
    },
    "kernelspec": {
      "display_name": "Python 3",
      "name": "python3"
    },
    "language_info": {
      "codemirror_mode": {
        "name": "ipython",
        "version": 3
      },
      "file_extension": ".py",
      "mimetype": "text/x-python",
      "name": "python",
      "nbconvert_exporter": "python",
      "pygments_lexer": "ipython3",
      "version": "3.11.9"
    }
  },
  "nbformat": 4,
  "nbformat_minor": 0
}
